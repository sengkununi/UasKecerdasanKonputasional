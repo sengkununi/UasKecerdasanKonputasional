{
  "nbformat": 4,
  "nbformat_minor": 0,
  "metadata": {
    "colab": {
      "provenance": [],
      "include_colab_link": true
    },
    "kernelspec": {
      "name": "python3",
      "display_name": "Python 3"
    },
    "language_info": {
      "name": "python"
    }
  },
  "cells": [
    {
      "cell_type": "markdown",
      "metadata": {
        "id": "view-in-github",
        "colab_type": "text"
      },
      "source": [
        "<a href=\"https://colab.research.google.com/github/sengkununi/UasKecerdasanKonputasional/blob/main/of_Fuzzy_Logic.ipynb\" target=\"_parent\"><img src=\"https://colab.research.google.com/assets/colab-badge.svg\" alt=\"Open In Colab\"/></a>"
      ]
    },
    {
      "cell_type": "markdown",
      "source": [
        "###- Import library dari pandas\n",
        " -"
      ],
      "metadata": {
        "id": "8V9SXjGHgMfJ"
      }
    },
    {
      "cell_type": "code",
      "execution_count": null,
      "metadata": {
        "id": "7ZTyiRxjRzS1"
      },
      "outputs": [],
      "source": [
        "import pandas as pd"
      ]
    },
    {
      "cell_type": "markdown",
      "source": [
        "###- Untuk import data file dari Google Drive -"
      ],
      "metadata": {
        "id": "tkFVKScFgkSA"
      }
    },
    {
      "cell_type": "code",
      "source": [
        "import os\n",
        "from google.colab import drive\n",
        "drive.mount('/content/drive')\n"
      ],
      "metadata": {
        "colab": {
          "base_uri": "https://localhost:8080/"
        },
        "id": "1hdVAFb1XLUQ",
        "outputId": "5abe4a3d-c35d-4d4d-b7e6-af30b82fe6c1"
      },
      "execution_count": null,
      "outputs": [
        {
          "output_type": "stream",
          "name": "stdout",
          "text": [
            "Mounted at /content/drive\n"
          ]
        }
      ]
    },
    {
      "cell_type": "code",
      "source": [
        "from google.colab import drive\n",
        "drive.mount('/content/drive')"
      ],
      "metadata": {
        "id": "zPm-tokU9rTG",
        "outputId": "fbdae118-dfb9-41c1-b335-54f380418489",
        "colab": {
          "base_uri": "https://localhost:8080/"
        }
      },
      "execution_count": null,
      "outputs": [
        {
          "output_type": "stream",
          "name": "stdout",
          "text": [
            "Drive already mounted at /content/drive; to attempt to forcibly remount, call drive.mount(\"/content/drive\", force_remount=True).\n"
          ]
        }
      ]
    },
    {
      "cell_type": "markdown",
      "source": [
        "###- Mendeklarasi fungsi untuk menentukan parameter nilai emosi -"
      ],
      "metadata": {
        "id": "25wNNxT9gx2P"
      }
    },
    {
      "cell_type": "code",
      "source": [
        "def checkEmotion(x):\n",
        "    eLow, eMedium, eHigh = 0,0,0\n",
        "\n",
        "    if x >= 0 and x <= 35:\n",
        "        eLow    = 1\n",
        "\n",
        "    elif x > 35 and x < 39:\n",
        "        eLow    = (-1*((x-39)/(39-35)))\n",
        "        eMedium = ((x-35)/(39-35))\n",
        "\n",
        "    elif x >= 39 and x <= 61:\n",
        "        eMedium = 1\n",
        "\n",
        "    elif x > 61 and x <65:\n",
        "        eMedium = (-1*((x-65)/(65-61)))\n",
        "        eHigh   = ((x-61)/(65-1))\n",
        "\n",
        "    elif x >= 65:\n",
        "        eHigh   = 1\n",
        "\n",
        "    return eLow, eMedium, eHigh\n"
      ],
      "metadata": {
        "id": "J1NQzU4jUApz"
      },
      "execution_count": null,
      "outputs": []
    },
    {
      "cell_type": "markdown",
      "source": [
        "###- mendeklarasi fungsi untuk menentukan parameter nilai provokasi -"
      ],
      "metadata": {
        "id": "fToD5n7jiHm8"
      }
    },
    {
      "cell_type": "code",
      "source": [
        "def checkProvoke(x):\n",
        "    pLow, pMedium, pHigh = 0,0,0\n",
        "\n",
        "    if x >= 0 and x <= 55:\n",
        "        pLow    = 1\n",
        "\n",
        "    elif x > 55 and x < 60:\n",
        "        pLow    = (-1*(x-60)/(60-55))\n",
        "        pMedium = ((x-55)/(60-55))\n",
        "\n",
        "    elif x >= 60 and x <= 85:\n",
        "        pMedium = 1\n",
        "\n",
        "    elif x > 85 and x < 87:\n",
        "        pMedium = (-1*(x-87)/(82-87))\n",
        "        pHigh   = ((x-85)/(87-85))\n",
        "\n",
        "    elif x >= 87:\n",
        "        pHigh   = 1\n",
        "\n",
        "    return pLow, pMedium, pHigh"
      ],
      "metadata": {
        "id": "qv1tLysbUNg6"
      },
      "execution_count": null,
      "outputs": []
    },
    {
      "cell_type": "markdown",
      "source": [
        "###- Mendeklarasi Fungsi \"inference\" untuk menghitung nilai output fuzzy menggunakan kombinasi parameter emosi dan provokasi -"
      ],
      "metadata": {
        "id": "U_gloREoiYgD"
      }
    },
    {
      "cell_type": "code",
      "source": [
        "def inference(eLow, eMedium, eHigh, pLow, pMedium, pHigh):\n",
        "    Y1,Y2,Y3,Y4,Y5 = 0,0,0,0,0\n",
        "    N1,N2,N3,N4 = 0,0,0,0\n",
        "    Y,N = 0,0\n",
        "\n",
        "    if eHigh != 0 and pHigh != 0:\n",
        "        Y1 = min(eHigh,pHigh)\n",
        "\n",
        "    if eHigh != 0 and pMedium != 0:\n",
        "        Y2 = min(eHigh,pMedium)\n",
        "\n",
        "    if eHigh != 0 and pLow != 0:\n",
        "        N1 = min(eHigh,pLow)\n",
        "\n",
        "    if eMedium != 0 and pHigh !=0:\n",
        "        Y3 = min(eMedium,pHigh)\n",
        "\n",
        "    if eMedium != 0 and pMedium != 0:\n",
        "        N2 = min(eMedium,pMedium)\n",
        "\n",
        "    if eMedium != 0 and pLow != 0:\n",
        "        N3 = min(eMedium,pLow)\n",
        "\n",
        "    if eLow != 0 and pHigh != 0:\n",
        "        Y4 = min(eLow,pHigh)\n",
        "\n",
        "    if eLow != 0 and pMedium != 0:\n",
        "        Y5 = min(eLow,pMedium)\n",
        "\n",
        "    if eLow != 0 and pLow != 0:\n",
        "        N4 = min(eLow,pLow)\n",
        "\n",
        "    Y = max(Y1,Y2,Y3,Y4,Y5)\n",
        "    N = max(N1,N2,N3,N4)\n",
        "    return Y,N"
      ],
      "metadata": {
        "id": "XucuRv4_UU3_"
      },
      "execution_count": null,
      "outputs": []
    },
    {
      "cell_type": "markdown",
      "source": [
        "### - Mendeklarasi fungsi \"defuzzification\" untuk melakukan defuzzifikasi atau konversi nilai fuzzy menjadi nilai konkret -"
      ],
      "metadata": {
        "id": "UmfKLzYvjGWa"
      }
    },
    {
      "cell_type": "code",
      "source": [
        "def defuzzification(Y,N):\n",
        "    if Y != 0 and N != 0:\n",
        "        return ((Y*60)+(N*40))/(Y+N)\n",
        "    elif Y != 0:\n",
        "        return (Y*60)/Y\n",
        "    elif N != 0:\n",
        "        return (N*40)/N"
      ],
      "metadata": {
        "id": "9CmfkmgNUteb"
      },
      "execution_count": null,
      "outputs": []
    },
    {
      "cell_type": "markdown",
      "source": [
        "### - Program utama  -"
      ],
      "metadata": {
        "id": "CfE5EftAlqGF"
      }
    },
    {
      "cell_type": "code",
      "source": [
        "# Membaca file dari excel\n",
        "data = pd.read_excel('drive/MyDrive/News.xlsx') # jalur file Excel\n",
        "\n",
        "# Ekstrak value nilai dari excel\n",
        "news = data['News'].tolist()\n",
        "emotion = data['Emotion'].tolist()\n",
        "provoke = data['Provoke'].tolist()\n",
        "\n",
        "count = 0\n",
        "while count < len(news):\n",
        "    eLow, eMedium, eHigh = checkEmotion(emotion[count])\n",
        "    pLow, pMedium, pHigh = checkProvoke(provoke[count])\n",
        "    Ya, Tidak = inference(eLow, eMedium, eHigh, pLow, pMedium, pHigh)\n",
        "    hasil = defuzzification(Ya, Tidak)\n",
        "    if hasil < 55.0:\n",
        "        hoax = \"No\"\n",
        "    elif hasil >= 55.0:\n",
        "        hoax = \"Yes\"\n",
        "    print(\"News:\", news[count], \" Emotion:\", emotion[count], \" Provoke:\", provoke[count], \" Hoax:\", hoax)\n",
        "\n",
        "    count += 1"
      ],
      "metadata": {
        "colab": {
          "base_uri": "https://localhost:8080/"
        },
        "id": "VbVqhHnnX4ep",
        "outputId": "80b7c367-f420-40b0-ff09-e09af29e61c1"
      },
      "execution_count": null,
      "outputs": [
        {
          "output_type": "stream",
          "name": "stdout",
          "text": [
            "News: B01  Emotion: 98  Provoke: 88  Hoax: Yes\n",
            "News: B02  Emotion: 75  Provoke: 85  Hoax: Yes\n",
            "News: B03  Emotion: 55  Provoke: 45  Hoax: No\n",
            "News: B04  Emotion: 82  Provoke: 92  Hoax: Yes\n",
            "News: B05  Emotion: 75  Provoke: 21  Hoax: No\n",
            "News: B06  Emotion: 80  Provoke: 81  Hoax: Yes\n",
            "News: B07  Emotion: 55  Provoke: 65  Hoax: No\n",
            "News: B08  Emotion: 60  Provoke: 45  Hoax: No\n",
            "News: B09  Emotion: 47  Provoke: 65  Hoax: No\n",
            "News: B10  Emotion: 55  Provoke: 47  Hoax: No\n",
            "News: B11  Emotion: 77  Provoke: 87  Hoax: Yes\n",
            "News: B12  Emotion: 67  Provoke: 78  Hoax: Yes\n",
            "News: B13  Emotion: 65  Provoke: 77  Hoax: Yes\n",
            "News: B14  Emotion: 80  Provoke: 92  Hoax: Yes\n",
            "News: B15  Emotion: 45  Provoke: 84  Hoax: No\n",
            "News: B16  Emotion: 86  Provoke: 68  Hoax: Yes\n",
            "News: B17  Emotion: 67  Provoke: 76  Hoax: Yes\n",
            "News: B18  Emotion: 59  Provoke: 95  Hoax: Yes\n",
            "News: B19  Emotion: 100  Provoke: 20  Hoax: No\n",
            "News: B20  Emotion: 12  Provoke: 92  Hoax: Yes\n",
            "News: B21  Emotion: 58  Provoke: 63  Hoax: No\n",
            "News: B22  Emotion: 68  Provoke: 70  Hoax: Yes\n",
            "News: B23  Emotion: 64  Provoke: 66  Hoax: No\n",
            "News: B24  Emotion: 57  Provoke: 77  Hoax: No\n",
            "News: B25  Emotion: 77  Provoke: 55  Hoax: No\n",
            "News: B26  Emotion: 98  Provoke: 64  Hoax: Yes\n",
            "News: B27  Emotion: 91  Provoke: 59  Hoax: Yes\n",
            "News: B28  Emotion: 50  Provoke: 95  Hoax: Yes\n",
            "News: B29  Emotion: 95  Provoke: 55  Hoax: No\n",
            "News: B30  Emotion: 27  Provoke: 79  Hoax: Yes\n"
          ]
        }
      ]
    },
    {
      "cell_type": "markdown",
      "source": [
        "###**Kenapa data pada source code otomatis berubah jika data pada excell berubah?**\n",
        "\n",
        "####Source code mengambil data langsung dari file Excel saat dijalankan, sehingga perubahan pada file Excel akan langsung terlihat dalam source code. Dengan demikian, kode akan selalu menggunakan data terbaru yang diperbarui saat dijalankan. Ini memastikan bahwa hasil operasi yang dihasilkan oleh kode selalu mengikuti perubahan data pada file Excel.\n",
        "\n"
      ],
      "metadata": {
        "id": "uEgZ5fuPmt0l"
      }
    }
  ]
}